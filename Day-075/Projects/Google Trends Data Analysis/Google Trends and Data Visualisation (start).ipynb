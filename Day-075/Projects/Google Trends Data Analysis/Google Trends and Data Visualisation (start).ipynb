{
 "cells": [
  {
   "cell_type": "markdown",
   "metadata": {},
   "source": [
    "# Introduction"
   ]
  },
  {
   "cell_type": "markdown",
   "metadata": {},
   "source": [
    "Google Trends gives us an estimate of search volume. Let's explore if search popularity relates to other kinds of data. Perhaps there are patterns in Google's search volume and the price of Bitcoin or a hot stock like Tesla. Perhaps search volume for the term \"Unemployment Benefits\" can tell us something about the actual unemployment rate? \n",
    "\n",
    "Data Sources: <br>\n",
    "<ul>\n",
    "<li> <a href=\"https://fred.stlouisfed.org/series/UNRATE/\">Unemployment Rate from FRED</a></li>\n",
    "<li> <a href=\"https://trends.google.com/trends/explore\">Google Trends</a> </li>  \n",
    "<li> <a href=\"https://finance.yahoo.com/quote/TSLA/history?p=TSLA\">Yahoo Finance for Tesla Stock Price</a> </li>    \n",
    "<li> <a href=\"https://finance.yahoo.com/quote/BTC-USD/history?p=BTC-USD\">Yahoo Finance for Bitcoin Stock Price</a> </li>\n",
    "</ul>"
   ]
  },
  {
   "cell_type": "markdown",
   "metadata": {},
   "source": [
    "# Import Statements"
   ]
  },
  {
   "cell_type": "code",
   "execution_count": 1,
   "metadata": {},
   "outputs": [],
   "source": [
    "import pandas as pd\n",
    "import matplotlib.pyplot as plt"
   ]
  },
  {
   "cell_type": "markdown",
   "metadata": {},
   "source": [
    "# Read the Data\n",
    "\n",
    "Download and add the .csv files to the same folder as your notebook."
   ]
  },
  {
   "cell_type": "code",
   "execution_count": 2,
   "metadata": {},
   "outputs": [],
   "source": [
    "df_tesla = pd.read_csv('./data/TESLA Search Trend vs Price.csv')\n",
    "\n",
    "df_btc_search = pd.read_csv('./data/Bitcoin Search Trend.csv')\n",
    "df_btc_price = pd.read_csv('./data/Daily Bitcoin Price.csv')\n",
    "\n",
    "df_unemployment = pd.read_csv('./data/UE Benefits Search vs UE Rate 2004-19.csv')"
   ]
  },
  {
   "cell_type": "markdown",
   "metadata": {},
   "source": [
    "# Data Exploration"
   ]
  },
  {
   "cell_type": "markdown",
   "metadata": {},
   "source": [
    "### Tesla"
   ]
  },
  {
   "cell_type": "markdown",
   "metadata": {},
   "source": [
    "**Challenge**: <br>\n",
    "<ul>\n",
    "<li>What are the shapes of the dataframes? </li>\n",
    "<li>How many rows and columns? </li>\n",
    "<li>What are the column names? </li>\n",
    "<li>Complete the f-string to show the largest/smallest number in the search data column</li> \n",
    "<li>Try the <code>.describe()</code> function to see some useful descriptive statistics</li>\n",
    "<li>What is the periodicity of the time series data (daily, weekly, monthly)? </li>\n",
    "<li>What does a value of 100 in the Google Trend search popularity actually mean?</li>\n",
    "</ul>"
   ]
  },
  {
   "cell_type": "code",
   "execution_count": 6,
   "metadata": {},
   "outputs": [
    {
     "name": "stdout",
     "output_type": "stream",
     "text": [
      "(Rows, Columns)\n",
      "(124, 3)\n",
      "['MONTH', 'TSLA_WEB_SEARCH', 'TSLA_USD_CLOSE']\n"
     ]
    }
   ],
   "source": [
    "print(\"(Rows, Columns)\")\n",
    "print(df_tesla.shape)\n",
    "\n",
    "print(list(df_tesla.columns.values))"
   ]
  },
  {
   "cell_type": "code",
   "execution_count": 11,
   "metadata": {},
   "outputs": [
    {
     "name": "stdout",
     "output_type": "stream",
     "text": [
      "Largest value for Tesla in Web Search: 31\n",
      "Smallest value for Tesla in Web Search: 2\n"
     ]
    }
   ],
   "source": [
    "print(f'Largest value for Tesla in Web Search: {df_tesla[\"TSLA_WEB_SEARCH\"].max()}')\n",
    "print(f'Smallest value for Tesla in Web Search: {df_tesla[\"TSLA_WEB_SEARCH\"].min()}')"
   ]
  },
  {
   "cell_type": "code",
   "execution_count": 13,
   "metadata": {},
   "outputs": [
    {
     "name": "stdout",
     "output_type": "stream",
     "text": [
      "       TSLA_WEB_SEARCH  TSLA_USD_CLOSE\n",
      "count       124.000000      124.000000\n",
      "mean          8.725806       50.962145\n",
      "std           5.870332       65.908389\n",
      "min           2.000000        3.896000\n",
      "25%           3.750000        7.352500\n",
      "50%           8.000000       44.653000\n",
      "75%          12.000000       58.991999\n",
      "max          31.000000      498.320007\n",
      "MS\n"
     ]
    }
   ],
   "source": [
    "print(df_tesla.describe())\n",
    "\n",
    "print(pd.infer_freq(df_tesla[\"MONTH\"]))"
   ]
  },
  {
   "cell_type": "markdown",
   "metadata": {},
   "source": [
    "### Unemployment Data"
   ]
  },
  {
   "cell_type": "code",
   "execution_count": 14,
   "metadata": {},
   "outputs": [
    {
     "name": "stdout",
     "output_type": "stream",
     "text": [
      "(Rows, Columns)\n",
      "(181, 3)\n",
      "['MONTH', 'UE_BENEFITS_WEB_SEARCH', 'UNRATE']\n"
     ]
    }
   ],
   "source": [
    "print(\"(Rows, Columns)\")\n",
    "print(df_unemployment.shape)\n",
    "\n",
    "print(list(df_unemployment.columns.values))"
   ]
  },
  {
   "cell_type": "code",
   "execution_count": 15,
   "metadata": {},
   "outputs": [
    {
     "name": "stdout",
     "output_type": "stream",
     "text": [
      "Largest value for \"Unemployemnt Benefits\" in Web Search: 100\n"
     ]
    }
   ],
   "source": [
    "print('Largest value for \"Unemployemnt Benefits\" '\n",
    "      f'in Web Search: {df_unemployment[\"UE_BENEFITS_WEB_SEARCH\"].max()}')"
   ]
  },
  {
   "cell_type": "markdown",
   "metadata": {},
   "source": [
    "### Bitcoin"
   ]
  },
  {
   "cell_type": "code",
   "execution_count": 18,
   "metadata": {},
   "outputs": [
    {
     "name": "stdout",
     "output_type": "stream",
     "text": [
      "(Rows, Columns)\n",
      "(73, 2)\n",
      "['MONTH', 'BTC_NEWS_SEARCH']\n"
     ]
    }
   ],
   "source": [
    "print(\"(Rows, Columns)\")\n",
    "print(df_btc_search.shape)\n",
    "\n",
    "print(list(df_btc_search.columns.values))"
   ]
  },
  {
   "cell_type": "code",
   "execution_count": 20,
   "metadata": {},
   "outputs": [
    {
     "name": "stdout",
     "output_type": "stream",
     "text": [
      "       BTC_NEWS_SEARCH\n",
      "count        73.000000\n",
      "mean         15.013699\n",
      "std          15.146959\n",
      "min           3.000000\n",
      "25%           5.000000\n",
      "50%          14.000000\n",
      "75%          18.000000\n",
      "max         100.000000\n",
      "MS\n"
     ]
    }
   ],
   "source": [
    "print(df_btc_search.describe())\n",
    "\n",
    "print(pd.infer_freq(df_btc_search[\"MONTH\"]))"
   ]
  },
  {
   "cell_type": "code",
   "execution_count": 24,
   "metadata": {},
   "outputs": [
    {
     "name": "stdout",
     "output_type": "stream",
     "text": [
      "Largest BTC News Search: 100\n",
      "Smallest BTC News Search: 3\n"
     ]
    }
   ],
   "source": [
    "print(f'Largest BTC News Search: {df_btc_search[\"BTC_NEWS_SEARCH\"].max()}')\n",
    "print(f'Smallest BTC News Search: {df_btc_search[\"BTC_NEWS_SEARCH\"].min()}')"
   ]
  },
  {
   "cell_type": "markdown",
   "metadata": {},
   "source": [
    "# Data Cleaning"
   ]
  },
  {
   "cell_type": "markdown",
   "metadata": {},
   "source": [
    "### Check for Missing Values"
   ]
  },
  {
   "cell_type": "markdown",
   "metadata": {},
   "source": [
    "**Challenge**: Are there any missing values in any of the dataframes? If so, which row/rows have missing values? How many missing values are there?"
   ]
  },
  {
   "cell_type": "code",
   "execution_count": null,
   "metadata": {},
   "outputs": [],
   "source": [
    "missing_tesla = df_tesla.isna().sum()"
   ]
  },
  {
   "cell_type": "code",
   "execution_count": 27,
   "metadata": {},
   "outputs": [
    {
     "name": "stdout",
     "output_type": "stream",
     "text": [
      "Missing values for Tesla?: No\n",
      "\n",
      "Missing values for U/E?: No\n",
      "\n",
      "Missing values for BTC Search?: No\n"
     ]
    }
   ],
   "source": [
    "missing_tesla = df_tesla.isna().sum()\n",
    "tesla_rows_with_na = df_tesla[df_tesla.isna().any(axis=1)]\n",
    "print(f'Missing values for Tesla?: {\"Yes\" if missing_tesla.sum() > 0 else \"No\"}')\n",
    "if missing_tesla.sum() > 0:\n",
    "    print(f\"Columns with missing values: {missing_tesla[missing_tesla > 0].to_string()}\")\n",
    "    print(f\"Rows with missing values:\\n{tesla_rows_with_na}\")\n",
    "\n",
    "missing_unemployment = df_unemployment.isna().sum()\n",
    "unemployment_rows_with_na = df_unemployment[df_unemployment.isna().any(axis=1)]\n",
    "print(f'\\nMissing values for U/E?: {\"Yes\" if missing_unemployment.sum() > 0 else \"No\"}')\n",
    "if missing_unemployment.sum() > 0:\n",
    "    print(f\"Columns with missing values: {missing_unemployment[missing_unemployment > 0].to_string()}\")\n",
    "    print(f\"Rows with missing values:\\n{unemployment_rows_with_na}\")\n",
    "\n",
    "missing_btc_search = df_btc_search.isna().sum()\n",
    "btc_search_rows_with_na = df_btc_search[df_btc_search.isna().any(axis=1)]\n",
    "print(f'\\nMissing values for BTC Search?: {\"Yes\" if missing_btc_search.sum() > 0 else \"No\"}')\n",
    "if missing_btc_search.sum() > 0:\n",
    "    print(f\"Columns with missing values: {missing_btc_search[missing_btc_search > 0].to_string()}\")\n",
    "    print(f\"Rows with missing values:\\n{btc_search_rows_with_na}\")"
   ]
  },
  {
   "cell_type": "code",
   "execution_count": 28,
   "metadata": {},
   "outputs": [
    {
     "name": "stdout",
     "output_type": "stream",
     "text": [
      "Missing values for BTC price?: Yes\n",
      "Columns with missing values: CLOSE     1\n",
      "VOLUME    1\n",
      "Rows with missing values:\n",
      "            DATE  CLOSE  VOLUME\n",
      "2148  2020-08-04    NaN     NaN\n"
     ]
    }
   ],
   "source": [
    "missing_btc_price = df_btc_price.isna().sum()\n",
    "btc_price_rows_with_na = df_btc_price[df_btc_price.isna().any(axis=1)]\n",
    "\n",
    "message = f'Missing values for BTC price?: {\"Yes\" if missing_btc_price.sum() > 0 else \"No\"}'\n",
    "print(message)\n",
    "\n",
    "if missing_btc_price.sum() > 0:\n",
    "    print(f\"Columns with missing values: {missing_btc_price[missing_btc_price > 0].to_string()}\")\n",
    "    print(f\"Rows with missing values:\\n{btc_price_rows_with_na}\")"
   ]
  },
  {
   "cell_type": "code",
   "execution_count": 29,
   "metadata": {},
   "outputs": [
    {
     "name": "stdout",
     "output_type": "stream",
     "text": [
      "Number of missing values: 2\n"
     ]
    }
   ],
   "source": [
    "total_missing_btc_price = missing_btc_price.sum()\n",
    "print(f'Number of missing values: {total_missing_btc_price}')"
   ]
  },
  {
   "cell_type": "markdown",
   "metadata": {},
   "source": [
    "**Challenge**: Remove any missing values that you found. "
   ]
  },
  {
   "cell_type": "code",
   "execution_count": 31,
   "metadata": {},
   "outputs": [
    {
     "name": "stdout",
     "output_type": "stream",
     "text": [
      "Missing values for BTC price?: No\n"
     ]
    }
   ],
   "source": [
    "df_btc_price = df_btc_price.dropna()\n",
    "\n",
    "missing_btc_price = df_btc_price.isna().sum()\n",
    "btc_price_rows_with_na = df_btc_price[df_btc_price.isna().any(axis=1)]\n",
    "\n",
    "message = f'Missing values for BTC price?: {\"Yes\" if missing_btc_price.sum() > 0 else \"No\"}'\n",
    "print(message)\n",
    "\n",
    "if missing_btc_price.sum() > 0:\n",
    "    print(f\"Columns with missing values: {missing_btc_price[missing_btc_price > 0].to_string()}\")\n",
    "    print(f\"Rows with missing values:\\n{btc_price_rows_with_na}\")"
   ]
  },
  {
   "cell_type": "markdown",
   "metadata": {},
   "source": [
    "### Convert Strings to DateTime Objects"
   ]
  },
  {
   "cell_type": "markdown",
   "metadata": {},
   "source": [
    "**Challenge**: Check the data type of the entries in the DataFrame MONTH or DATE columns. Convert any strings in to Datetime objects. Do this for all 4 DataFrames. Double check if your type conversion was successful."
   ]
  },
  {
   "cell_type": "code",
   "execution_count": 36,
   "metadata": {},
   "outputs": [
    {
     "name": "stdout",
     "output_type": "stream",
     "text": [
      "0   2010-06-01\n",
      "1   2010-07-01\n",
      "2   2010-08-01\n",
      "3   2010-09-01\n",
      "4   2010-10-01\n",
      "Name: MONTH, dtype: datetime64[ns]\n"
     ]
    }
   ],
   "source": [
    "df_tesla.MONTH = pd.to_datetime(df_tesla.MONTH)\n",
    "print(\"--- Tesla Search Trends ---\")\n",
    "print(df_tesla.MONTH.head())"
   ]
  },
  {
   "cell_type": "code",
   "execution_count": 40,
   "metadata": {},
   "outputs": [
    {
     "name": "stdout",
     "output_type": "stream",
     "text": [
      "--- BTC Search Trends ---\n",
      "0   2014-09-01\n",
      "1   2014-10-01\n",
      "2   2014-11-01\n",
      "3   2014-12-01\n",
      "4   2015-01-01\n",
      "Name: MONTH, dtype: datetime64[ns]\n",
      "\n",
      "--- BTC Price Data ---\n",
      "0   2014-09-17\n",
      "1   2014-09-18\n",
      "2   2014-09-19\n",
      "3   2014-09-20\n",
      "4   2014-09-21\n",
      "Name: DATE, dtype: datetime64[ns]\n"
     ]
    }
   ],
   "source": [
    "df_btc_search.MONTH = pd.to_datetime(df_btc_search.MONTH)\n",
    "print(\"--- BTC Search Trends ---\")\n",
    "print(df_btc_search.MONTH.head())\n",
    "df_btc_price.DATE = pd.to_datetime(df_btc_price.DATE)\n",
    "print(\"\\n--- BTC Price Data ---\")\n",
    "print(df_btc_price.DATE.head())"
   ]
  },
  {
   "cell_type": "code",
   "execution_count": 42,
   "metadata": {},
   "outputs": [
    {
     "name": "stdout",
     "output_type": "stream",
     "text": [
      "--- Unemployment Benefits Search Trends ---\n",
      "0   2004-01-01\n",
      "1   2004-02-01\n",
      "2   2004-03-01\n",
      "3   2004-04-01\n",
      "4   2004-05-01\n",
      "Name: MONTH, dtype: datetime64[ns]\n"
     ]
    }
   ],
   "source": [
    "df_unemployment.MONTH = pd.to_datetime(df_unemployment.MONTH)\n",
    "print(\"--- Unemployment Benefits Search Trends ---\")\n",
    "print(df_unemployment.MONTH.head())"
   ]
  },
  {
   "cell_type": "markdown",
   "metadata": {},
   "source": [
    "### Converting from Daily to Monthly Data\n",
    "\n",
    "[Pandas .resample() documentation](https://pandas.pydata.org/pandas-docs/stable/reference/api/pandas.DataFrame.resample.html) <br>"
   ]
  },
  {
   "cell_type": "code",
   "execution_count": 44,
   "metadata": {},
   "outputs": [],
   "source": [
    "df_btc_monthly_end_price = df_btc_price.resample(\"M\", on=\"DATE\").last()\n",
    "df_btc_monthly_avg_price = df_btc_price.resample(\"M\", on=\"DATE\").mean()"
   ]
  },
  {
   "cell_type": "code",
   "execution_count": 50,
   "metadata": {},
   "outputs": [
    {
     "name": "stdout",
     "output_type": "stream",
     "text": [
      "----- Monthly BTC End Price -----\n",
      "(Rows, Columns)\n",
      "(73, 2)\n",
      "                 CLOSE      VOLUME\n",
      "DATE                              \n",
      "2014-09-30  386.944000  34707300.0\n",
      "2014-10-31  338.321014  12545400.0\n",
      "2014-11-30  378.046997   9194440.0\n",
      "2014-12-31  320.192993  13942900.0\n",
      "2015-01-31  217.464005  23348200.0\n",
      "\n",
      "----- Monthly BTC Avg Price -----\n",
      "(Rows, Columns)\n",
      "(73, 2)\n",
      "                 CLOSE        VOLUME\n",
      "DATE                                \n",
      "2014-09-30  407.182428  2.934864e+07\n",
      "2014-10-31  364.148873  2.912885e+07\n",
      "2014-11-30  366.099799  2.199111e+07\n",
      "2014-12-31  341.267871  1.784201e+07\n",
      "2015-01-31  248.782547  3.544555e+07\n"
     ]
    }
   ],
   "source": [
    "print(\"----- Monthly BTC End Price -----\")\n",
    "print(\"(Rows, Columns)\")\n",
    "print(df_btc_monthly_end_price.shape)\n",
    "print(df_btc_monthly_end_price.head())\n",
    "\n",
    "print(\"\\n----- Monthly BTC Avg Price -----\")\n",
    "print(\"(Rows, Columns)\")\n",
    "print(df_btc_monthly_avg_price.shape)\n",
    "print(df_btc_monthly_avg_price.head())"
   ]
  },
  {
   "cell_type": "markdown",
   "metadata": {},
   "source": [
    "# Data Visualisation"
   ]
  },
  {
   "cell_type": "markdown",
   "metadata": {},
   "source": [
    "### Notebook Formatting & Style Helpers"
   ]
  },
  {
   "cell_type": "code",
   "execution_count": 22,
   "metadata": {},
   "outputs": [],
   "source": [
    "# Create locators for ticks on the time axis"
   ]
  },
  {
   "cell_type": "code",
   "execution_count": 21,
   "metadata": {},
   "outputs": [],
   "source": [
    "# Register date converters to avoid warning messages"
   ]
  },
  {
   "cell_type": "markdown",
   "metadata": {},
   "source": [
    "### Tesla Stock Price v.s. Search Volume"
   ]
  },
  {
   "cell_type": "markdown",
   "metadata": {},
   "source": [
    "**Challenge:** Plot the Tesla stock price against the Tesla search volume using a line chart and two different axes. Label one axis 'TSLA Stock Price' and the other 'Search Trend'. "
   ]
  },
  {
   "cell_type": "code",
   "execution_count": 52,
   "metadata": {},
   "outputs": [
    {
     "data": {
      "text/plain": [
       "[<matplotlib.lines.Line2D at 0x7f810cc8a530>]"
      ]
     },
     "execution_count": 52,
     "metadata": {},
     "output_type": "execute_result"
    },
    {
     "data": {
      "image/png": "[encoded data removed]",
      "text/plain": [
       "<Figure size 640x480 with 2 Axes>"
      ]
     },
     "metadata": {},
     "output_type": "display_data"
    }
   ],
   "source": [
    "ax1 = plt.gca()\n",
    "ax2 = ax1.twinx()\n",
    "\n",
    "ax1.set_ylabel(\"TSLA Stock Price\")\n",
    "ax2.set_ylabel(\"Search Trend\")\n",
    "\n",
    "ax1.plot(df_tesla.MONTH, df_tesla.TSLA_USD_CLOSE)\n",
    "ax2.plot(df_tesla.MONTH, df_tesla.TSLA_WEB_SEARCH)"
   ]
  },
  {
   "cell_type": "markdown",
   "metadata": {},
   "source": [
    "**Challenge**: Add colours to style the chart. This will help differentiate the two lines and the axis labels. Try using one of the blue [colour names](https://matplotlib.org/3.1.1/gallery/color/named_colors.html) for the search volume and a HEX code for a red colour for the stock price. \n",
    "<br>\n",
    "<br>\n",
    "Hint: you can colour both the [axis labels](https://matplotlib.org/3.3.2/api/text_api.html#matplotlib.text.Text) and the [lines](https://matplotlib.org/3.2.1/api/_as_gen/matplotlib.lines.Line2D.html#matplotlib.lines.Line2D) on the chart using keyword arguments (kwargs).  "
   ]
  },
  {
   "cell_type": "code",
   "execution_count": 56,
   "metadata": {},
   "outputs": [
    {
     "data": {
      "text/plain": [
       "[<matplotlib.lines.Line2D at 0x7f810a473f10>]"
      ]
     },
     "execution_count": 56,
     "metadata": {},
     "output_type": "execute_result"
    },
    {
     "data": {
      "image/png": "[encoded data removed]",
      "text/plain": [
       "<Figure size 640x480 with 2 Axes>"
      ]
     },
     "metadata": {},
     "output_type": "display_data"
    }
   ],
   "source": [
    "ax1 = plt.gca()\n",
    "ax2 = ax1.twinx()\n",
    "\n",
    "ax1.set_ylabel(\"TSLA Stock Price\", color=\"#b33939\")\n",
    "ax2.set_ylabel(\"Search Trend\", color=\"tab:blue\")\n",
    "\n",
    "ax1.plot(df_tesla.MONTH, df_tesla.TSLA_USD_CLOSE, color=\"#b33939\")\n",
    "ax2.plot(df_tesla.MONTH, df_tesla.TSLA_WEB_SEARCH, color=\"tab:blue\")"
   ]
  },
  {
   "cell_type": "markdown",
   "metadata": {},
   "source": [
    "**Challenge**: Make the chart larger and easier to read. \n",
    "1. Increase the figure size (e.g., to 14 by 8). \n",
    "2. Increase the font sizes for the labels and the ticks on the x-axis to 14. \n",
    "3. Rotate the text on the x-axis by 45 degrees. \n",
    "4. Make the lines on the chart thicker. \n",
    "5. Add a title that reads 'Tesla Web Search vs Price'\n",
    "6. Keep the chart looking sharp by changing the dots-per-inch or [DPI value](https://matplotlib.org/3.1.1/api/_as_gen/matplotlib.pyplot.figure.html). \n",
    "7. Set minimum and maximum values for the y and x axis. Hint: check out methods like [set_xlim()](https://matplotlib.org/3.1.1/api/_as_gen/matplotlib.axes.Axes.set_xlim.html). \n",
    "8. Finally use [plt.show()](https://matplotlib.org/3.2.1/api/_as_gen/matplotlib.pyplot.show.html) to display the chart below the cell instead of relying on the automatic notebook output."
   ]
  },
  {
   "cell_type": "code",
   "execution_count": null,
   "metadata": {},
   "outputs": [],
   "source": []
  },
  {
   "cell_type": "markdown",
   "metadata": {},
   "source": [
    "How to add tick formatting for dates on the x-axis. "
   ]
  },
  {
   "cell_type": "code",
   "execution_count": null,
   "metadata": {},
   "outputs": [],
   "source": []
  },
  {
   "cell_type": "markdown",
   "metadata": {},
   "source": [
    "### Bitcoin (BTC) Price v.s. Search Volume"
   ]
  },
  {
   "cell_type": "markdown",
   "metadata": {},
   "source": [
    "**Challenge**: Create the same chart for the Bitcoin Prices vs. Search volumes. <br>\n",
    "1. Modify the chart title to read 'Bitcoin News Search vs Resampled Price' <br>\n",
    "2. Change the y-axis label to 'BTC Price' <br>\n",
    "3. Change the y- and x-axis limits to improve the appearance <br>\n",
    "4. Investigate the [linestyles](https://matplotlib.org/3.2.1/api/_as_gen/matplotlib.pyplot.plot.html ) to make the BTC price a dashed line <br>\n",
    "5. Investigate the [marker types](https://matplotlib.org/3.2.1/api/markers_api.html) to make the search datapoints little circles <br>\n",
    "6. Were big increases in searches for Bitcoin accompanied by big increases in the price?"
   ]
  },
  {
   "cell_type": "code",
   "execution_count": null,
   "metadata": {},
   "outputs": [],
   "source": []
  },
  {
   "cell_type": "code",
   "execution_count": null,
   "metadata": {},
   "outputs": [],
   "source": []
  },
  {
   "cell_type": "markdown",
   "metadata": {},
   "source": [
    "### Unemployement Benefits Search vs. Actual Unemployment in the U.S."
   ]
  },
  {
   "cell_type": "markdown",
   "metadata": {},
   "source": [
    "**Challenge** Plot the search for \"unemployment benefits\" against the unemployment rate. \n",
    "1. Change the title to: Monthly Search of \"Unemployment Benefits\" in the U.S. vs the U/E Rate <br>\n",
    "2. Change the y-axis label to: FRED U/E Rate <br>\n",
    "3. Change the axis limits <br>\n",
    "4. Add a grey [grid](https://matplotlib.org/3.2.1/api/_as_gen/matplotlib.pyplot.grid.html) to the chart to better see the years and the U/E rate values. Use dashes for the line style<br> \n",
    "5. Can you discern any seasonality in the searches? Is there a pattern? "
   ]
  },
  {
   "cell_type": "code",
   "execution_count": null,
   "metadata": {},
   "outputs": [],
   "source": []
  },
  {
   "cell_type": "markdown",
   "metadata": {},
   "source": [
    "**Challenge**: Calculate the 3-month or 6-month rolling average for the web searches. Plot the 6-month rolling average search data against the actual unemployment. What do you see in the chart? Which line moves first?\n"
   ]
  },
  {
   "cell_type": "code",
   "execution_count": null,
   "metadata": {},
   "outputs": [],
   "source": []
  },
  {
   "cell_type": "markdown",
   "metadata": {},
   "source": [
    "### Including 2020 in Unemployment Charts"
   ]
  },
  {
   "cell_type": "markdown",
   "metadata": {},
   "source": [
    "**Challenge**: Read the data in the 'UE Benefits Search vs UE Rate 2004-20.csv' into a DataFrame. Convert the MONTH column to Pandas Datetime objects and then plot the chart. What do you see?"
   ]
  },
  {
   "cell_type": "code",
   "execution_count": null,
   "metadata": {},
   "outputs": [],
   "source": []
  },
  {
   "cell_type": "code",
   "execution_count": null,
   "metadata": {},
   "outputs": [],
   "source": []
  },
  {
   "cell_type": "code",
   "execution_count": 29,
   "metadata": {},
   "outputs": [],
   "source": []
  }
 ],
 "metadata": {
  "kernelspec": {
   "display_name": "Python 3",
   "language": "python",
   "name": "python3"
  },
  "language_info": {
   "codemirror_mode": {
    "name": "ipython",
    "version": 3
   },
   "file_extension": ".py",
   "mimetype": "text/x-python",
   "name": "python",
   "nbconvert_exporter": "python",
   "pygments_lexer": "ipython3",
   "version": "3.10.12"
  }
 },
 "nbformat": 4,
 "nbformat_minor": 2
}

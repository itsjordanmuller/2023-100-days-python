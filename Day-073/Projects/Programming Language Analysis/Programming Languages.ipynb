{
  "cells": [
    {
      "cell_type": "markdown",
      "metadata": {
        "colab_type": "text",
        "id": "MAAKxOwsGxuj"
      },
      "source": [
        "## Get the Data\n",
        "\n",
        "Either use the provided .csv file or (optionally) get fresh (the freshest?) data from running an SQL query on StackExchange: \n",
        "\n",
        "Follow this link to run the query from [StackExchange](https://data.stackexchange.com/stackoverflow/query/675441/popular-programming-languages-per-over-time-eversql-com) to get your own .csv file\n",
        "\n",
        "<code>\n",
        "select dateadd(month, datediff(month, 0, q.CreationDate), 0) m, TagName, count(*)\n",
        "from PostTags pt\n",
        "join Posts q on q.Id=pt.PostId\n",
        "join Tags t on t.Id=pt.TagId\n",
        "where TagName in ('java','c','c++','python','c#','javascript','assembly','php','perl','ruby','visual basic','swift','r','object-c','scratch','go','swift','delphi')\n",
        "and q.CreationDate < dateadd(month, datediff(month, 0, getdate()), 0)\n",
        "group by dateadd(month, datediff(month, 0, q.CreationDate), 0), TagName\n",
        "order by dateadd(month, datediff(month, 0, q.CreationDate), 0)\n",
        "</code>"
      ]
    },
    {
      "cell_type": "markdown",
      "metadata": {
        "colab_type": "text",
        "id": "u5KcSXt1Gxuk"
      },
      "source": [
        "## Import Statements"
      ]
    },
    {
      "cell_type": "code",
      "execution_count": 5,
      "metadata": {
        "colab": {},
        "colab_type": "code",
        "id": "Ru4Wq-pXGxuk"
      },
      "outputs": [],
      "source": [
        "import pandas as pd"
      ]
    },
    {
      "cell_type": "markdown",
      "metadata": {
        "colab_type": "text",
        "id": "xEP6beuEGxun"
      },
      "source": [
        "## Data Exploration"
      ]
    },
    {
      "cell_type": "markdown",
      "metadata": {
        "colab_type": "text",
        "id": "w3Q75B4CGxun"
      },
      "source": [
        "**Challenge**: Read the .csv file and store it in a Pandas dataframe"
      ]
    },
    {
      "cell_type": "code",
      "execution_count": 17,
      "metadata": {
        "colab": {},
        "colab_type": "code",
        "id": "Bm7hQtEGIiri"
      },
      "outputs": [
        {
          "name": "stdout",
          "output_type": "stream",
          "text": [
            "                     Date         Tag  Posts Count\n",
            "0     2008-07-01 00:00:00          c#            3\n",
            "1     2008-08-01 00:00:00    assembly            8\n",
            "2     2008-08-01 00:00:00  javascript          162\n",
            "3     2008-08-01 00:00:00           c           85\n",
            "4     2008-08-01 00:00:00      python          124\n",
            "...                   ...         ...          ...\n",
            "1986  2020-07-01 00:00:00           r         5694\n",
            "1987  2020-07-01 00:00:00          go          743\n",
            "1988  2020-07-01 00:00:00        ruby          775\n",
            "1989  2020-07-01 00:00:00        perl          182\n",
            "1990  2020-07-01 00:00:00       swift         3607\n",
            "\n",
            "[1991 rows x 3 columns]\n"
          ]
        }
      ],
      "source": [
        "df = pd.read_csv(\"./data/QueryResults.csv\", sep=\",\")\n",
        "print(df)"
      ]
    },
    {
      "cell_type": "markdown",
      "metadata": {
        "colab_type": "text",
        "id": "x2WnDM75Gxup"
      },
      "source": [
        "**Challenge**: Examine the first 5 rows and the last 5 rows of the of the dataframe"
      ]
    },
    {
      "cell_type": "code",
      "execution_count": 18,
      "metadata": {
        "colab": {},
        "colab_type": "code",
        "id": "50oqpUxVIiJf"
      },
      "outputs": [
        {
          "name": "stdout",
          "output_type": "stream",
          "text": [
            "\n",
            "--- First 5 Rows ---\n",
            "                  Date         Tag  Posts Count\n",
            "0  2008-07-01 00:00:00          c#            3\n",
            "1  2008-08-01 00:00:00    assembly            8\n",
            "2  2008-08-01 00:00:00  javascript          162\n",
            "3  2008-08-01 00:00:00           c           85\n",
            "4  2008-08-01 00:00:00      python          124\n",
            "\n",
            "--- Last 5 Rows ---\n",
            "                     Date    Tag  Posts Count\n",
            "1986  2020-07-01 00:00:00      r         5694\n",
            "1987  2020-07-01 00:00:00     go          743\n",
            "1988  2020-07-01 00:00:00   ruby          775\n",
            "1989  2020-07-01 00:00:00   perl          182\n",
            "1990  2020-07-01 00:00:00  swift         3607\n"
          ]
        }
      ],
      "source": [
        "print(\"\\n--- First 5 Rows ---\")\n",
        "print(df.head())\n",
        "print(\"\\n--- Last 5 Rows ---\")\n",
        "print(df.tail())"
      ]
    },
    {
      "cell_type": "markdown",
      "metadata": {
        "colab_type": "text",
        "id": "0o9hvVgyGxus"
      },
      "source": [
        "**Challenge:** Check how many rows and how many columns there are. \n",
        "What are the dimensions of the dataframe?"
      ]
    },
    {
      "cell_type": "code",
      "execution_count": 19,
      "metadata": {
        "colab": {},
        "colab_type": "code",
        "id": "ZUidjCPFIho8"
      },
      "outputs": [
        {
          "name": "stdout",
          "output_type": "stream",
          "text": [
            "\n",
            "--- Shape of DataFrame (Rows, Columns) ---\n",
            "(1991, 3)\n"
          ]
        }
      ],
      "source": [
        "print(\"\\n--- Shape of DataFrame (Rows, Columns) ---\")\n",
        "print(df.shape)"
      ]
    },
    {
      "cell_type": "markdown",
      "metadata": {
        "colab_type": "text",
        "id": "ybZkNLmxGxuu"
      },
      "source": [
        "**Challenge**: Count the number of entries in each column of the dataframe"
      ]
    },
    {
      "cell_type": "code",
      "execution_count": 20,
      "metadata": {
        "colab": {},
        "colab_type": "code",
        "id": "Sc1dmmOoIg2g"
      },
      "outputs": [
        {
          "name": "stdout",
          "output_type": "stream",
          "text": [
            "Date           1991\n",
            "Tag            1991\n",
            "Posts Count    1991\n",
            "dtype: int64\n"
          ]
        }
      ],
      "source": [
        "print(df.count())"
      ]
    },
    {
      "cell_type": "markdown",
      "metadata": {
        "colab_type": "text",
        "id": "hlnfFsscGxuw"
      },
      "source": [
        "**Challenge**: Calculate the total number of post per language.\n",
        "Which Programming language has had the highest total number of posts of all time?"
      ]
    },
    {
      "cell_type": "code",
      "execution_count": 31,
      "metadata": {
        "colab": {},
        "colab_type": "code",
        "id": "9-NYFONcIc1X"
      },
      "outputs": [
        {
          "name": "stdout",
          "output_type": "stream",
          "text": [
            "\n",
            "--- Programming Languages Sorted by Most Posts ---\n",
            "Tag\n",
            "javascript    2056510\n",
            "java          1696403\n",
            "python        1496210\n",
            "c#            1423530\n",
            "php           1361988\n",
            "c++            684210\n",
            "r              356799\n",
            "c              336042\n",
            "swift          273055\n",
            "ruby           214582\n",
            "perl            65286\n",
            "go              47499\n",
            "delphi          46212\n",
            "assembly        34852\n",
            "Name: Posts Count, dtype: int64\n",
            "\n",
            "--- Language with Highest Total Posts ---\n",
            "javascript\n"
          ]
        }
      ],
      "source": [
        "print(\"\\n--- Programming Languages Sorted by Most Posts ---\")\n",
        "tag_totals = df.groupby(\"Tag\")[\"Posts Count\"].sum().sort_values(ascending=False)\n",
        "print(tag_totals)\n",
        "print(\"\\n--- Language with Highest Total Posts ---\")\n",
        "highest_total_posts = tag_totals.idxmax()\n",
        "print(highest_total_posts)"
      ]
    },
    {
      "cell_type": "markdown",
      "metadata": {
        "colab_type": "text",
        "id": "iVCesB49Gxuz"
      },
      "source": [
        "Some languages are older (e.g., C) and other languages are newer (e.g., Swift). The dataset starts in September 2008.\n",
        "\n",
        "**Challenge**: How many months of data exist per language? Which language had the fewest months with an entry? \n"
      ]
    },
    {
      "cell_type": "code",
      "execution_count": 32,
      "metadata": {
        "colab": {},
        "colab_type": "code",
        "id": "hDT4JlJNJfgQ"
      },
      "outputs": [
        {
          "name": "stdout",
          "output_type": "stream",
          "text": [
            "\n",
            "--- Programming Languages Sorted by Least Months ---\n",
            "Tag\n",
            "go            129\n",
            "swift         135\n",
            "r             142\n",
            "assembly      144\n",
            "c             144\n",
            "c++           144\n",
            "delphi        144\n",
            "java          144\n",
            "javascript    144\n",
            "perl          144\n",
            "php           144\n",
            "python        144\n",
            "ruby          144\n",
            "c#            145\n",
            "dtype: int64\n",
            "\n",
            "--- Language with the Least Months ---\n",
            "go\n"
          ]
        }
      ],
      "source": [
        "print(\"\\n--- Programming Languages Sorted by Least Months ---\")\n",
        "df['Date'] = pd.to_datetime(df['Date'])\n",
        "months_per_tag = (df.groupby(['Tag', df['Date'].dt.to_period('M')]).size().groupby(level=0).count()).sort_values()\n",
        "print(months_per_tag)\n",
        "print(\"\\n--- Language with the Least Months ---\")\n",
        "min_months_tag = months_per_tag.idxmin()\n",
        "print(min_months_tag)"
      ]
    },
    {
      "cell_type": "markdown",
      "metadata": {
        "colab_type": "text",
        "id": "arguGp3ZGxu1"
      },
      "source": [
        "## Data Cleaning\n",
        "\n",
        "Let's fix the date format to make it more readable. We need to use Pandas to change format from a string of \"2008-07-01 00:00:00\" to a datetime object with the format of \"2008-07-01\""
      ]
    },
    {
      "cell_type": "code",
      "execution_count": 34,
      "metadata": {
        "colab": {},
        "colab_type": "code",
        "id": "5nh5a4UtGxu1"
      },
      "outputs": [],
      "source": [
        "df['Date'] = pd.to_datetime(df['Date'])"
      ]
    },
    {
      "cell_type": "code",
      "execution_count": 35,
      "metadata": {
        "colab": {},
        "colab_type": "code",
        "id": "016H-Fy4Gxu3"
      },
      "outputs": [],
      "source": [
        "df['Date'] = df['Date'].dt.date"
      ]
    },
    {
      "cell_type": "code",
      "execution_count": 36,
      "metadata": {
        "colab": {},
        "colab_type": "code",
        "id": "4EiSd7pdGxu5"
      },
      "outputs": [
        {
          "name": "stdout",
          "output_type": "stream",
          "text": [
            "            Date         Tag  Posts Count\n",
            "0     2008-07-01          c#            3\n",
            "1     2008-08-01    assembly            8\n",
            "2     2008-08-01  javascript          162\n",
            "3     2008-08-01           c           85\n",
            "4     2008-08-01      python          124\n",
            "...          ...         ...          ...\n",
            "1986  2020-07-01           r         5694\n",
            "1987  2020-07-01          go          743\n",
            "1988  2020-07-01        ruby          775\n",
            "1989  2020-07-01        perl          182\n",
            "1990  2020-07-01       swift         3607\n",
            "\n",
            "[1991 rows x 3 columns]\n"
          ]
        }
      ],
      "source": [
        "print(df)"
      ]
    },
    {
      "cell_type": "markdown",
      "metadata": {
        "colab_type": "text",
        "id": "rWAV6tuzGxu6"
      },
      "source": [
        "## Data Manipulation\n",
        "\n"
      ]
    },
    {
      "cell_type": "code",
      "execution_count": 39,
      "metadata": {
        "colab": {},
        "colab_type": "code",
        "id": "aHhbulJaGxu7"
      },
      "outputs": [
        {
          "data": {
            "text/html": [
              "<div>\n",
              "<style scoped>\n",
              "    .dataframe tbody tr th:only-of-type {\n",
              "        vertical-align: middle;\n",
              "    }\n",
              "\n",
              "    .dataframe tbody tr th {\n",
              "        vertical-align: top;\n",
              "    }\n",
              "\n",
              "    .dataframe thead th {\n",
              "        text-align: right;\n",
              "    }\n",
              "</style>\n",
              "<table border=\"1\" class=\"dataframe\">\n",
              "  <thead>\n",
              "    <tr style=\"text-align: right;\">\n",
              "      <th></th>\n",
              "      <th>Date</th>\n",
              "      <th>Tag</th>\n",
              "      <th>Posts Count</th>\n",
              "    </tr>\n",
              "  </thead>\n",
              "  <tbody>\n",
              "    <tr>\n",
              "      <th>0</th>\n",
              "      <td>2008-07-01</td>\n",
              "      <td>c#</td>\n",
              "      <td>3</td>\n",
              "    </tr>\n",
              "    <tr>\n",
              "      <th>1</th>\n",
              "      <td>2008-08-01</td>\n",
              "      <td>assembly</td>\n",
              "      <td>8</td>\n",
              "    </tr>\n",
              "    <tr>\n",
              "      <th>2</th>\n",
              "      <td>2008-08-01</td>\n",
              "      <td>javascript</td>\n",
              "      <td>162</td>\n",
              "    </tr>\n",
              "    <tr>\n",
              "      <th>3</th>\n",
              "      <td>2008-08-01</td>\n",
              "      <td>c</td>\n",
              "      <td>85</td>\n",
              "    </tr>\n",
              "    <tr>\n",
              "      <th>4</th>\n",
              "      <td>2008-08-01</td>\n",
              "      <td>python</td>\n",
              "      <td>124</td>\n",
              "    </tr>\n",
              "    <tr>\n",
              "      <th>...</th>\n",
              "      <td>...</td>\n",
              "      <td>...</td>\n",
              "      <td>...</td>\n",
              "    </tr>\n",
              "    <tr>\n",
              "      <th>1986</th>\n",
              "      <td>2020-07-01</td>\n",
              "      <td>r</td>\n",
              "      <td>5694</td>\n",
              "    </tr>\n",
              "    <tr>\n",
              "      <th>1987</th>\n",
              "      <td>2020-07-01</td>\n",
              "      <td>go</td>\n",
              "      <td>743</td>\n",
              "    </tr>\n",
              "    <tr>\n",
              "      <th>1988</th>\n",
              "      <td>2020-07-01</td>\n",
              "      <td>ruby</td>\n",
              "      <td>775</td>\n",
              "    </tr>\n",
              "    <tr>\n",
              "      <th>1989</th>\n",
              "      <td>2020-07-01</td>\n",
              "      <td>perl</td>\n",
              "      <td>182</td>\n",
              "    </tr>\n",
              "    <tr>\n",
              "      <th>1990</th>\n",
              "      <td>2020-07-01</td>\n",
              "      <td>swift</td>\n",
              "      <td>3607</td>\n",
              "    </tr>\n",
              "  </tbody>\n",
              "</table>\n",
              "<p>1991 rows × 3 columns</p>\n",
              "</div>"
            ],
            "text/plain": [
              "            Date         Tag  Posts Count\n",
              "0     2008-07-01          c#            3\n",
              "1     2008-08-01    assembly            8\n",
              "2     2008-08-01  javascript          162\n",
              "3     2008-08-01           c           85\n",
              "4     2008-08-01      python          124\n",
              "...          ...         ...          ...\n",
              "1986  2020-07-01           r         5694\n",
              "1987  2020-07-01          go          743\n",
              "1988  2020-07-01        ruby          775\n",
              "1989  2020-07-01        perl          182\n",
              "1990  2020-07-01       swift         3607\n",
              "\n",
              "[1991 rows x 3 columns]"
            ]
          },
          "execution_count": 39,
          "metadata": {},
          "output_type": "execute_result"
        }
      ],
      "source": [
        "df.dropna()"
      ]
    },
    {
      "cell_type": "markdown",
      "metadata": {
        "colab_type": "text",
        "id": "RWKcVIyFKwHM"
      },
      "source": [
        "**Challenge**: What are the dimensions of our new dataframe? How many rows and columns does it have? Print out the column names and print out the first 5 rows of the dataframe."
      ]
    },
    {
      "cell_type": "code",
      "execution_count": 41,
      "metadata": {
        "colab": {},
        "colab_type": "code",
        "id": "v-u4FcLXGxu9"
      },
      "outputs": [
        {
          "name": "stdout",
          "output_type": "stream",
          "text": [
            "(Rows, Columns)\n",
            "(1991, 3)\n"
          ]
        }
      ],
      "source": [
        "print(\"(Rows, Columns)\")\n",
        "print(df.shape)"
      ]
    },
    {
      "cell_type": "code",
      "execution_count": 44,
      "metadata": {
        "colab": {},
        "colab_type": "code",
        "id": "NUyBcaMMGxu-"
      },
      "outputs": [
        {
          "name": "stdout",
          "output_type": "stream",
          "text": [
            "List of Columns\n",
            "['Date', 'Tag', 'Posts Count']\n"
          ]
        }
      ],
      "source": [
        "print(\"List of Columns\")\n",
        "print(df.columns.tolist())"
      ]
    },
    {
      "cell_type": "code",
      "execution_count": 45,
      "metadata": {
        "colab": {},
        "colab_type": "code",
        "id": "LnUIOL3LGxvA"
      },
      "outputs": [
        {
          "name": "stdout",
          "output_type": "stream",
          "text": [
            "First 5 Rows\n",
            "         Date         Tag  Posts Count\n",
            "0  2008-07-01          c#            3\n",
            "1  2008-08-01    assembly            8\n",
            "2  2008-08-01  javascript          162\n",
            "3  2008-08-01           c           85\n",
            "4  2008-08-01      python          124\n"
          ]
        }
      ],
      "source": [
        "print(\"First 5 Rows\")\n",
        "print(df.head())"
      ]
    },
    {
      "cell_type": "markdown",
      "metadata": {
        "colab_type": "text",
        "id": "BoDCuRU0GxvC"
      },
      "source": [
        "**Challenge**: Count the number of entries per programming language. Why might the number of entries be different? "
      ]
    },
    {
      "cell_type": "code",
      "execution_count": 5,
      "metadata": {
        "colab": {},
        "colab_type": "code",
        "id": "-peEFgaMGxvE"
      },
      "outputs": [],
      "source": []
    },
    {
      "cell_type": "code",
      "execution_count": 5,
      "metadata": {
        "colab": {},
        "colab_type": "code",
        "id": "01f2BCF8GxvG"
      },
      "outputs": [],
      "source": []
    },
    {
      "cell_type": "code",
      "execution_count": 5,
      "metadata": {
        "colab": {},
        "colab_type": "code",
        "id": "KooRRxAdGxvI"
      },
      "outputs": [],
      "source": []
    },
    {
      "cell_type": "markdown",
      "metadata": {
        "colab_type": "text",
        "id": "8xU7l_f4GxvK"
      },
      "source": [
        "## Data Visualisaton with with Matplotlib\n"
      ]
    },
    {
      "cell_type": "markdown",
      "metadata": {
        "colab_type": "text",
        "id": "njnNXTlhGxvK"
      },
      "source": [
        "**Challenge**: Use the [matplotlib documentation](https://matplotlib.org/3.2.1/api/_as_gen/matplotlib.pyplot.plot.html#matplotlib.pyplot.plot) to plot a single programming language (e.g., java) on a chart."
      ]
    },
    {
      "cell_type": "code",
      "execution_count": 5,
      "metadata": {
        "colab": {},
        "colab_type": "code",
        "id": "S0OS8T8iGxvL"
      },
      "outputs": [],
      "source": []
    },
    {
      "cell_type": "code",
      "execution_count": 5,
      "metadata": {
        "colab": {},
        "colab_type": "code",
        "id": "EU6AV1l9GxvM"
      },
      "outputs": [],
      "source": []
    },
    {
      "cell_type": "code",
      "execution_count": 5,
      "metadata": {
        "colab": {},
        "colab_type": "code",
        "id": "_Qzzg6b_GxvO"
      },
      "outputs": [],
      "source": []
    },
    {
      "cell_type": "markdown",
      "metadata": {
        "colab_type": "text",
        "id": "Sm2DL5tZGxvQ"
      },
      "source": [
        "**Challenge**: Show two line (e.g. for Java and Python) on the same chart."
      ]
    },
    {
      "cell_type": "code",
      "execution_count": 5,
      "metadata": {
        "colab": {},
        "colab_type": "code",
        "id": "T-0vClQSGxvQ"
      },
      "outputs": [],
      "source": []
    },
    {
      "cell_type": "markdown",
      "metadata": {
        "colab_type": "text",
        "id": "3jSjfPy7GxvY"
      },
      "source": [
        "# Smoothing out Time Series Data\n",
        "\n",
        "Time series data can be quite noisy, with a lot of up and down spikes. To better see a trend we can plot an average of, say 6 or 12 observations. This is called the rolling mean. We calculate the average in a window of time and move it forward by one overservation. Pandas has two handy methods already built in to work this out: [rolling()](https://pandas.pydata.org/pandas-docs/stable/reference/api/pandas.DataFrame.rolling.html) and [mean()](https://pandas.pydata.org/pandas-docs/stable/reference/api/pandas.core.window.rolling.Rolling.mean.html). "
      ]
    },
    {
      "cell_type": "code",
      "execution_count": null,
      "metadata": {
        "colab": {},
        "colab_type": "code",
        "id": "s3WYd3OgGxvc"
      },
      "outputs": [],
      "source": []
    },
    {
      "cell_type": "code",
      "execution_count": null,
      "metadata": {
        "colab": {},
        "colab_type": "code",
        "id": "WMJOX8Y2Gxvd"
      },
      "outputs": [],
      "source": []
    },
    {
      "cell_type": "code",
      "execution_count": null,
      "metadata": {
        "colab": {},
        "colab_type": "code",
        "id": "fAvvarA7Gxvf"
      },
      "outputs": [],
      "source": []
    },
    {
      "cell_type": "code",
      "execution_count": null,
      "metadata": {
        "colab": {},
        "colab_type": "code",
        "id": "Gm0Ww0S4Gxvg"
      },
      "outputs": [],
      "source": []
    }
  ],
  "metadata": {
    "colab": {
      "name": "Programming Languages (start).ipynb",
      "provenance": []
    },
    "kernelspec": {
      "display_name": "Python 3",
      "language": "python",
      "name": "python3"
    },
    "language_info": {
      "codemirror_mode": {
        "name": "ipython",
        "version": 3
      },
      "file_extension": ".py",
      "mimetype": "text/x-python",
      "name": "python",
      "nbconvert_exporter": "python",
      "pygments_lexer": "ipython3",
      "version": "3.10.12"
    }
  },
  "nbformat": 4,
  "nbformat_minor": 0
}
